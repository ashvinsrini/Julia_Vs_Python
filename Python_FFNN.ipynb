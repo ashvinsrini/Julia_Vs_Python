{
 "cells": [
  {
   "cell_type": "markdown",
   "metadata": {},
   "source": [
    "# Time and Accuracy Performance Analysis between Julia and Python for a simple FFNN\n",
    "### Python Script"
   ]
  },
  {
   "cell_type": "markdown",
   "metadata": {},
   "source": [
    "To download the CSV format of FASHION MNIST Please visit https://www.kaggle.com/zalando-research/fashionmnist"
   ]
  },
  {
   "cell_type": "code",
   "execution_count": 24,
   "metadata": {},
   "outputs": [],
   "source": [
    "import pandas as pd\n",
    "from sklearn.metrics import accuracy_score\n",
    "data = pd.read_csv('/home/ashvin/Desktop/FASHION MNIST/fashionmnist/fashion-mnist_train.csv')\n",
    "test_data = pd.read_csv('/home/ashvin/Desktop/FASHION MNIST/fashionmnist/fashion-mnist_test.csv')"
   ]
  },
  {
   "cell_type": "code",
   "execution_count": 25,
   "metadata": {},
   "outputs": [
    {
     "data": {
      "text/html": [
       "<div>\n",
       "<style scoped>\n",
       "    .dataframe tbody tr th:only-of-type {\n",
       "        vertical-align: middle;\n",
       "    }\n",
       "\n",
       "    .dataframe tbody tr th {\n",
       "        vertical-align: top;\n",
       "    }\n",
       "\n",
       "    .dataframe thead th {\n",
       "        text-align: right;\n",
       "    }\n",
       "</style>\n",
       "<table border=\"1\" class=\"dataframe\">\n",
       "  <thead>\n",
       "    <tr style=\"text-align: right;\">\n",
       "      <th></th>\n",
       "      <th>label</th>\n",
       "      <th>pixel1</th>\n",
       "      <th>pixel2</th>\n",
       "      <th>pixel3</th>\n",
       "      <th>pixel4</th>\n",
       "      <th>pixel5</th>\n",
       "      <th>pixel6</th>\n",
       "      <th>pixel7</th>\n",
       "      <th>pixel8</th>\n",
       "      <th>pixel9</th>\n",
       "      <th>...</th>\n",
       "      <th>pixel775</th>\n",
       "      <th>pixel776</th>\n",
       "      <th>pixel777</th>\n",
       "      <th>pixel778</th>\n",
       "      <th>pixel779</th>\n",
       "      <th>pixel780</th>\n",
       "      <th>pixel781</th>\n",
       "      <th>pixel782</th>\n",
       "      <th>pixel783</th>\n",
       "      <th>pixel784</th>\n",
       "    </tr>\n",
       "  </thead>\n",
       "  <tbody>\n",
       "    <tr>\n",
       "      <th>0</th>\n",
       "      <td>2</td>\n",
       "      <td>0</td>\n",
       "      <td>0</td>\n",
       "      <td>0</td>\n",
       "      <td>0</td>\n",
       "      <td>0</td>\n",
       "      <td>0</td>\n",
       "      <td>0</td>\n",
       "      <td>0</td>\n",
       "      <td>0</td>\n",
       "      <td>...</td>\n",
       "      <td>0</td>\n",
       "      <td>0</td>\n",
       "      <td>0</td>\n",
       "      <td>0</td>\n",
       "      <td>0</td>\n",
       "      <td>0</td>\n",
       "      <td>0</td>\n",
       "      <td>0</td>\n",
       "      <td>0</td>\n",
       "      <td>0</td>\n",
       "    </tr>\n",
       "    <tr>\n",
       "      <th>1</th>\n",
       "      <td>9</td>\n",
       "      <td>0</td>\n",
       "      <td>0</td>\n",
       "      <td>0</td>\n",
       "      <td>0</td>\n",
       "      <td>0</td>\n",
       "      <td>0</td>\n",
       "      <td>0</td>\n",
       "      <td>0</td>\n",
       "      <td>0</td>\n",
       "      <td>...</td>\n",
       "      <td>0</td>\n",
       "      <td>0</td>\n",
       "      <td>0</td>\n",
       "      <td>0</td>\n",
       "      <td>0</td>\n",
       "      <td>0</td>\n",
       "      <td>0</td>\n",
       "      <td>0</td>\n",
       "      <td>0</td>\n",
       "      <td>0</td>\n",
       "    </tr>\n",
       "    <tr>\n",
       "      <th>2</th>\n",
       "      <td>6</td>\n",
       "      <td>0</td>\n",
       "      <td>0</td>\n",
       "      <td>0</td>\n",
       "      <td>0</td>\n",
       "      <td>0</td>\n",
       "      <td>0</td>\n",
       "      <td>0</td>\n",
       "      <td>5</td>\n",
       "      <td>0</td>\n",
       "      <td>...</td>\n",
       "      <td>0</td>\n",
       "      <td>0</td>\n",
       "      <td>0</td>\n",
       "      <td>30</td>\n",
       "      <td>43</td>\n",
       "      <td>0</td>\n",
       "      <td>0</td>\n",
       "      <td>0</td>\n",
       "      <td>0</td>\n",
       "      <td>0</td>\n",
       "    </tr>\n",
       "    <tr>\n",
       "      <th>3</th>\n",
       "      <td>0</td>\n",
       "      <td>0</td>\n",
       "      <td>0</td>\n",
       "      <td>0</td>\n",
       "      <td>1</td>\n",
       "      <td>2</td>\n",
       "      <td>0</td>\n",
       "      <td>0</td>\n",
       "      <td>0</td>\n",
       "      <td>0</td>\n",
       "      <td>...</td>\n",
       "      <td>3</td>\n",
       "      <td>0</td>\n",
       "      <td>0</td>\n",
       "      <td>0</td>\n",
       "      <td>0</td>\n",
       "      <td>1</td>\n",
       "      <td>0</td>\n",
       "      <td>0</td>\n",
       "      <td>0</td>\n",
       "      <td>0</td>\n",
       "    </tr>\n",
       "    <tr>\n",
       "      <th>4</th>\n",
       "      <td>3</td>\n",
       "      <td>0</td>\n",
       "      <td>0</td>\n",
       "      <td>0</td>\n",
       "      <td>0</td>\n",
       "      <td>0</td>\n",
       "      <td>0</td>\n",
       "      <td>0</td>\n",
       "      <td>0</td>\n",
       "      <td>0</td>\n",
       "      <td>...</td>\n",
       "      <td>0</td>\n",
       "      <td>0</td>\n",
       "      <td>0</td>\n",
       "      <td>0</td>\n",
       "      <td>0</td>\n",
       "      <td>0</td>\n",
       "      <td>0</td>\n",
       "      <td>0</td>\n",
       "      <td>0</td>\n",
       "      <td>0</td>\n",
       "    </tr>\n",
       "  </tbody>\n",
       "</table>\n",
       "<p>5 rows × 785 columns</p>\n",
       "</div>"
      ],
      "text/plain": [
       "   label  pixel1  pixel2  pixel3  pixel4  pixel5  pixel6  pixel7  pixel8  \\\n",
       "0      2       0       0       0       0       0       0       0       0   \n",
       "1      9       0       0       0       0       0       0       0       0   \n",
       "2      6       0       0       0       0       0       0       0       5   \n",
       "3      0       0       0       0       1       2       0       0       0   \n",
       "4      3       0       0       0       0       0       0       0       0   \n",
       "\n",
       "   pixel9    ...     pixel775  pixel776  pixel777  pixel778  pixel779  \\\n",
       "0       0    ...            0         0         0         0         0   \n",
       "1       0    ...            0         0         0         0         0   \n",
       "2       0    ...            0         0         0        30        43   \n",
       "3       0    ...            3         0         0         0         0   \n",
       "4       0    ...            0         0         0         0         0   \n",
       "\n",
       "   pixel780  pixel781  pixel782  pixel783  pixel784  \n",
       "0         0         0         0         0         0  \n",
       "1         0         0         0         0         0  \n",
       "2         0         0         0         0         0  \n",
       "3         1         0         0         0         0  \n",
       "4         0         0         0         0         0  \n",
       "\n",
       "[5 rows x 785 columns]"
      ]
     },
     "execution_count": 25,
     "metadata": {},
     "output_type": "execute_result"
    }
   ],
   "source": [
    "data.head()"
   ]
  },
  {
   "cell_type": "markdown",
   "metadata": {},
   "source": [
    "Displaying a few random samples as images, we see that there are many categories such as shoes, handbags, shirts among others\n"
   ]
  },
  {
   "cell_type": "code",
   "execution_count": 26,
   "metadata": {},
   "outputs": [
    {
     "data": {
      "image/png": "[encoded data removed]",
      "text/plain": [
       "<Figure size 432x288 with 1 Axes>"
      ]
     },
     "metadata": {},
     "output_type": "display_data"
    },
    {
     "data": {
      "image/png": "[encoded data removed]",
      "text/plain": [
       "<Figure size 432x288 with 1 Axes>"
      ]
     },
     "metadata": {},
     "output_type": "display_data"
    },
    {
     "data": {
      "image/png": "[encoded data removed]",
      "text/plain": [
       "<Figure size 432x288 with 1 Axes>"
      ]
     },
     "metadata": {},
     "output_type": "display_data"
    },
    {
     "data": {
      "image/png": "[encoded data removed]",
      "text/plain": [
       "<Figure size 432x288 with 1 Axes>"
      ]
     },
     "metadata": {},
     "output_type": "display_data"
    },
    {
     "data": {
      "image/png": "[encoded data removed]",
      "text/plain": [
       "<Figure size 432x288 with 1 Axes>"
      ]
     },
     "metadata": {},
     "output_type": "display_data"
    },
    {
     "data": {
      "image/png": "[encoded data removed]",
      "text/plain": [
       "<Figure size 432x288 with 1 Axes>"
      ]
     },
     "metadata": {},
     "output_type": "display_data"
    },
    {
     "data": {
      "image/png": "[encoded data removed]",
      "text/plain": [
       "<Figure size 432x288 with 1 Axes>"
      ]
     },
     "metadata": {},
     "output_type": "display_data"
    },
    {
     "data": {
      "image/png": "[encoded data removed]",
      "text/plain": [
       "<Figure size 432x288 with 1 Axes>"
      ]
     },
     "metadata": {},
     "output_type": "display_data"
    },
    {
     "data": {
      "image/png": "[encoded data removed]",
      "text/plain": [
       "<Figure size 432x288 with 1 Axes>"
      ]
     },
     "metadata": {},
     "output_type": "display_data"
    },
    {
     "data": {
      "image/png": "[encoded data removed]",
      "text/plain": [
       "<Figure size 432x288 with 1 Axes>"
      ]
     },
     "metadata": {},
     "output_type": "display_data"
    }
   ],
   "source": [
    "import matplotlib.pyplot as plt\n",
    "import numpy as np\n",
    "for i in range(0,10):\n",
    "    img = np.array(data.iloc[i,1:]).reshape((28, 28))\n",
    "    plt.figure(i)\n",
    "    imgplot = plt.imshow(img)"
   ]
  },
  {
   "cell_type": "code",
   "execution_count": 27,
   "metadata": {},
   "outputs": [],
   "source": [
    "X = data.iloc[:,1:len(data)]\n",
    "y = data.iloc[:,0]"
   ]
  },
  {
   "cell_type": "markdown",
   "metadata": {},
   "source": [
    "### Defining a model in python using keras same NN architecture is also defined in Julia notebook \"Julia_FFNN\""
   ]
  },
  {
   "cell_type": "code",
   "execution_count": 28,
   "metadata": {},
   "outputs": [],
   "source": [
    "from keras.models import Sequential\n",
    "from keras.layers import Dense\n",
    "from keras.utils import to_categorical\n",
    "import time \n",
    "def ffnn(X,y, noofepochs = 100):\n",
    "    model = Sequential()\n",
    "    model.add(Dense(100, input_dim=X.shape[1], activation='relu'))\n",
    "    model.add(Dense(30, activation='relu'))\n",
    "    model.add(Dense(10, activation='softmax'))\n",
    "    model.compile(loss='binary_crossentropy', optimizer='adam', metrics=['accuracy'])\n",
    "    print(model.summary())\n",
    "    y = to_categorical(y.values)\n",
    "    start = time.time()\n",
    "    model.fit(X, y, epochs=noofepochs, batch_size=len(X))\n",
    "    end = time.time()\n",
    "    print('time in secs is {} secs'.format(end-start))\n",
    "    return model"
   ]
  },
  {
   "cell_type": "markdown",
   "metadata": {},
   "source": [
    "### We see that the model is trained just under 237.6 seconds with an accuracy score of 59.8%"
   ]
  },
  {
   "cell_type": "markdown",
   "metadata": {},
   "source": [
    "However, this test accuracy is subjected much variance as it depends on the data samples considered. So one way to counter this is to go for K fold cross validation. The objective was to compare the time performances between Python and Julia on FASHION MNIST data"
   ]
  },
  {
   "cell_type": "code",
   "execution_count": 29,
   "metadata": {
    "scrolled": true
   },
   "outputs": [
    {
     "name": "stdout",
     "output_type": "stream",
     "text": [
      "_________________________________________________________________\n",
      "Layer (type)                 Output Shape              Param #   \n",
      "=================================================================\n",
      "dense_4 (Dense)              (None, 100)               78500     \n",
      "_________________________________________________________________\n",
      "dense_5 (Dense)              (None, 30)                3030      \n",
      "_________________________________________________________________\n",
      "dense_6 (Dense)              (None, 10)                310       \n",
      "=================================================================\n",
      "Total params: 81,840\n",
      "Trainable params: 81,840\n",
      "Non-trainable params: 0\n",
      "_________________________________________________________________\n",
      "None\n",
      "Epoch 1/100\n",
      "60000/60000 [==============================] - 3s 46us/step - loss: 2.5584 - acc: 0.8330\n",
      "Epoch 2/100\n",
      "60000/60000 [==============================] - 2s 40us/step - loss: 2.6491 - acc: 0.8276\n",
      "Epoch 3/100\n",
      "60000/60000 [==============================] - 2s 40us/step - loss: 2.4648 - acc: 0.8362\n",
      "Epoch 4/100\n",
      "60000/60000 [==============================] - 2s 41us/step - loss: 2.3915 - acc: 0.8380\n",
      "Epoch 5/100\n",
      "60000/60000 [==============================] - 2s 41us/step - loss: 2.3430 - acc: 0.8442\n",
      "Epoch 6/100\n",
      "60000/60000 [==============================] - 2s 39us/step - loss: 2.2705 - acc: 0.8483\n",
      "Epoch 7/100\n",
      "60000/60000 [==============================] - 2s 40us/step - loss: 2.2153 - acc: 0.8500\n",
      "Epoch 8/100\n",
      "60000/60000 [==============================] - 2s 39us/step - loss: 2.1313 - acc: 0.8531\n",
      "Epoch 9/100\n",
      "60000/60000 [==============================] - 2s 39us/step - loss: 2.0121 - acc: 0.8596\n",
      "Epoch 10/100\n",
      "60000/60000 [==============================] - 2s 41us/step - loss: 1.8847 - acc: 0.8675\n",
      "Epoch 11/100\n",
      "60000/60000 [==============================] - 2s 39us/step - loss: 1.8199 - acc: 0.8708\n",
      "Epoch 12/100\n",
      "60000/60000 [==============================] - 2s 38us/step - loss: 1.7713 - acc: 0.8728\n",
      "Epoch 13/100\n",
      "60000/60000 [==============================] - 2s 39us/step - loss: 1.6332 - acc: 0.8795\n",
      "Epoch 14/100\n",
      "60000/60000 [==============================] - 2s 39us/step - loss: 1.5675 - acc: 0.8875\n",
      "Epoch 15/100\n",
      "60000/60000 [==============================] - 2s 37us/step - loss: 1.5696 - acc: 0.8882\n",
      "Epoch 16/100\n",
      "60000/60000 [==============================] - 2s 39us/step - loss: 1.5456 - acc: 0.8884\n",
      "Epoch 17/100\n",
      "60000/60000 [==============================] - 2s 41us/step - loss: 1.4927 - acc: 0.8904\n",
      "Epoch 18/100\n",
      "60000/60000 [==============================] - 2s 39us/step - loss: 1.4996 - acc: 0.8909\n",
      "Epoch 19/100\n",
      "60000/60000 [==============================] - 2s 40us/step - loss: 1.4437 - acc: 0.8920\n",
      "Epoch 20/100\n",
      "60000/60000 [==============================] - 2s 40us/step - loss: 1.3496 - acc: 0.8985\n",
      "Epoch 21/100\n",
      "60000/60000 [==============================] - 2s 40us/step - loss: 1.3095 - acc: 0.9039\n",
      "Epoch 22/100\n",
      "60000/60000 [==============================] - 2s 40us/step - loss: 1.2731 - acc: 0.9059\n",
      "Epoch 23/100\n",
      "60000/60000 [==============================] - 2s 38us/step - loss: 1.2361 - acc: 0.9071\n",
      "Epoch 24/100\n",
      "60000/60000 [==============================] - 2s 38us/step - loss: 1.2427 - acc: 0.9059\n",
      "Epoch 25/100\n",
      "60000/60000 [==============================] - 2s 39us/step - loss: 1.2137 - acc: 0.9074\n",
      "Epoch 26/100\n",
      "60000/60000 [==============================] - 2s 40us/step - loss: 1.1859 - acc: 0.9099\n",
      "Epoch 27/100\n",
      "60000/60000 [==============================] - 2s 39us/step - loss: 1.1859 - acc: 0.9104\n",
      "Epoch 28/100\n",
      "60000/60000 [==============================] - 2s 38us/step - loss: 1.1690 - acc: 0.9106\n",
      "Epoch 29/100\n",
      "60000/60000 [==============================] - 2s 40us/step - loss: 1.1437 - acc: 0.9099\n",
      "Epoch 30/100\n",
      "60000/60000 [==============================] - 2s 39us/step - loss: 1.1585 - acc: 0.9089\n",
      "Epoch 31/100\n",
      "60000/60000 [==============================] - 2s 38us/step - loss: 1.1193 - acc: 0.9109\n",
      "Epoch 32/100\n",
      "60000/60000 [==============================] - 2s 38us/step - loss: 1.1190 - acc: 0.9122\n",
      "Epoch 33/100\n",
      "60000/60000 [==============================] - 2s 37us/step - loss: 1.1068 - acc: 0.9126\n",
      "Epoch 34/100\n",
      "60000/60000 [==============================] - 2s 38us/step - loss: 1.0771 - acc: 0.9130\n",
      "Epoch 35/100\n",
      "60000/60000 [==============================] - 2s 38us/step - loss: 1.0825 - acc: 0.9123\n",
      "Epoch 36/100\n",
      "60000/60000 [==============================] - 2s 38us/step - loss: 1.0584 - acc: 0.9129\n",
      "Epoch 37/100\n",
      "60000/60000 [==============================] - 2s 38us/step - loss: 1.0536 - acc: 0.9143\n",
      "Epoch 38/100\n",
      "60000/60000 [==============================] - 2s 41us/step - loss: 1.0454 - acc: 0.9155\n",
      "Epoch 39/100\n",
      "60000/60000 [==============================] - 2s 39us/step - loss: 1.0328 - acc: 0.9160\n",
      "Epoch 40/100\n",
      "60000/60000 [==============================] - 2s 41us/step - loss: 1.0309 - acc: 0.9152\n",
      "Epoch 41/100\n",
      "60000/60000 [==============================] - 2s 39us/step - loss: 1.0152 - acc: 0.9158\n",
      "Epoch 42/100\n",
      "60000/60000 [==============================] - 2s 41us/step - loss: 1.0119 - acc: 0.9171\n",
      "Epoch 43/100\n",
      "60000/60000 [==============================] - 2s 39us/step - loss: 1.0013 - acc: 0.9177\n",
      "Epoch 44/100\n",
      "60000/60000 [==============================] - 2s 38us/step - loss: 0.9982 - acc: 0.9175\n",
      "Epoch 45/100\n",
      "60000/60000 [==============================] - 2s 41us/step - loss: 0.9884 - acc: 0.9176\n",
      "Epoch 46/100\n",
      "60000/60000 [==============================] - 2s 40us/step - loss: 0.9825 - acc: 0.9179\n",
      "Epoch 47/100\n",
      "60000/60000 [==============================] - 2s 38us/step - loss: 0.9726 - acc: 0.9184\n",
      "Epoch 48/100\n",
      "60000/60000 [==============================] - 2s 40us/step - loss: 0.9675 - acc: 0.9182\n",
      "Epoch 49/100\n",
      "60000/60000 [==============================] - 2s 37us/step - loss: 0.9571 - acc: 0.9179\n",
      "Epoch 50/100\n",
      "60000/60000 [==============================] - 2s 38us/step - loss: 0.9503 - acc: 0.9184\n",
      "Epoch 51/100\n",
      "60000/60000 [==============================] - 2s 37us/step - loss: 0.9436 - acc: 0.9191\n",
      "Epoch 52/100\n",
      "60000/60000 [==============================] - 3s 42us/step - loss: 0.9360 - acc: 0.9190\n",
      "Epoch 53/100\n",
      "60000/60000 [==============================] - 2s 40us/step - loss: 0.9317 - acc: 0.9183\n",
      "Epoch 54/100\n",
      "60000/60000 [==============================] - 3s 42us/step - loss: 0.9241 - acc: 0.9180\n",
      "Epoch 55/100\n",
      "60000/60000 [==============================] - 2s 41us/step - loss: 0.9169 - acc: 0.9188\n",
      "Epoch 56/100\n",
      "60000/60000 [==============================] - 2s 39us/step - loss: 0.9085 - acc: 0.9186\n",
      "Epoch 57/100\n",
      "60000/60000 [==============================] - 2s 40us/step - loss: 0.9013 - acc: 0.9186\n",
      "Epoch 58/100\n",
      "60000/60000 [==============================] - 2s 38us/step - loss: 0.8974 - acc: 0.9191\n",
      "Epoch 59/100\n",
      "60000/60000 [==============================] - 2s 38us/step - loss: 0.8916 - acc: 0.9184\n",
      "Epoch 60/100\n",
      "60000/60000 [==============================] - 2s 38us/step - loss: 0.8842 - acc: 0.9193\n",
      "Epoch 61/100\n",
      "60000/60000 [==============================] - 2s 40us/step - loss: 0.8792 - acc: 0.9178\n",
      "Epoch 62/100\n",
      "60000/60000 [==============================] - 2s 38us/step - loss: 0.8802 - acc: 0.9195\n",
      "Epoch 63/100\n",
      "60000/60000 [==============================] - 2s 38us/step - loss: 0.8780 - acc: 0.9168\n",
      "Epoch 64/100\n",
      "60000/60000 [==============================] - 2s 40us/step - loss: 0.8752 - acc: 0.9183\n",
      "Epoch 65/100\n",
      "60000/60000 [==============================] - 2s 39us/step - loss: 0.8642 - acc: 0.9168\n",
      "Epoch 66/100\n",
      "60000/60000 [==============================] - 2s 40us/step - loss: 0.8582 - acc: 0.9205\n",
      "Epoch 67/100\n",
      "60000/60000 [==============================] - 2s 40us/step - loss: 0.8580 - acc: 0.9204\n",
      "Epoch 68/100\n",
      "60000/60000 [==============================] - 2s 40us/step - loss: 0.8575 - acc: 0.9172\n",
      "Epoch 69/100\n",
      "60000/60000 [==============================] - 2s 37us/step - loss: 0.8546 - acc: 0.9169\n",
      "Epoch 70/100\n",
      "60000/60000 [==============================] - 2s 38us/step - loss: 0.8448 - acc: 0.9182\n",
      "Epoch 71/100\n",
      "60000/60000 [==============================] - 2s 40us/step - loss: 0.8709 - acc: 0.9155\n",
      "Epoch 72/100\n",
      "60000/60000 [==============================] - 2s 36us/step - loss: 0.8295 - acc: 0.9188\n",
      "Epoch 73/100\n",
      "60000/60000 [==============================] - 2s 41us/step - loss: 0.8368 - acc: 0.9181\n",
      "Epoch 74/100\n",
      "60000/60000 [==============================] - 2s 40us/step - loss: 0.8494 - acc: 0.9149\n"
     ]
    },
    {
     "name": "stdout",
     "output_type": "stream",
     "text": [
      "Epoch 75/100\n",
      "60000/60000 [==============================] - 2s 39us/step - loss: 0.8304 - acc: 0.9207\n",
      "Epoch 76/100\n",
      "60000/60000 [==============================] - 2s 39us/step - loss: 0.8478 - acc: 0.9204\n",
      "Epoch 77/100\n",
      "60000/60000 [==============================] - 2s 41us/step - loss: 0.8530 - acc: 0.9193\n",
      "Epoch 78/100\n",
      "60000/60000 [==============================] - 2s 40us/step - loss: 0.8478 - acc: 0.9188\n",
      "Epoch 79/100\n",
      "60000/60000 [==============================] - 2s 38us/step - loss: 0.8236 - acc: 0.9184\n",
      "Epoch 80/100\n",
      "60000/60000 [==============================] - 2s 38us/step - loss: 0.7989 - acc: 0.9178\n",
      "Epoch 81/100\n",
      "60000/60000 [==============================] - 3s 43us/step - loss: 0.8030 - acc: 0.9166\n",
      "Epoch 82/100\n",
      "60000/60000 [==============================] - 2s 40us/step - loss: 0.7988 - acc: 0.9189\n",
      "Epoch 83/100\n",
      "60000/60000 [==============================] - 2s 39us/step - loss: 0.7991 - acc: 0.9186\n",
      "Epoch 84/100\n",
      "60000/60000 [==============================] - 2s 39us/step - loss: 0.7847 - acc: 0.9192\n",
      "Epoch 85/100\n",
      "60000/60000 [==============================] - 2s 40us/step - loss: 0.7832 - acc: 0.9175\n",
      "Epoch 86/100\n",
      "60000/60000 [==============================] - 2s 40us/step - loss: 0.7795 - acc: 0.9178\n",
      "Epoch 87/100\n",
      "60000/60000 [==============================] - 2s 38us/step - loss: 0.7738 - acc: 0.9196\n",
      "Epoch 88/100\n",
      "60000/60000 [==============================] - 2s 39us/step - loss: 0.7704 - acc: 0.9198\n",
      "Epoch 89/100\n",
      "60000/60000 [==============================] - 2s 40us/step - loss: 0.7660 - acc: 0.9186\n",
      "Epoch 90/100\n",
      "60000/60000 [==============================] - 2s 40us/step - loss: 0.7621 - acc: 0.9179\n",
      "Epoch 91/100\n",
      "60000/60000 [==============================] - 3s 42us/step - loss: 0.7574 - acc: 0.9192\n",
      "Epoch 92/100\n",
      "60000/60000 [==============================] - 2s 41us/step - loss: 0.7570 - acc: 0.9193\n",
      "Epoch 93/100\n",
      "60000/60000 [==============================] - 2s 42us/step - loss: 0.7501 - acc: 0.9197\n",
      "Epoch 94/100\n",
      "60000/60000 [==============================] - 2s 40us/step - loss: 0.7468 - acc: 0.9182\n",
      "Epoch 95/100\n",
      "60000/60000 [==============================] - 2s 38us/step - loss: 0.7433 - acc: 0.9180\n",
      "Epoch 96/100\n",
      "60000/60000 [==============================] - 3s 42us/step - loss: 0.7406 - acc: 0.9198\n",
      "Epoch 97/100\n",
      "60000/60000 [==============================] - 2s 40us/step - loss: 0.7366 - acc: 0.9193\n",
      "Epoch 98/100\n",
      "60000/60000 [==============================] - 2s 39us/step - loss: 0.7312 - acc: 0.9185\n",
      "Epoch 99/100\n",
      "60000/60000 [==============================] - 2s 40us/step - loss: 0.7260 - acc: 0.9192\n",
      "Epoch 100/100\n",
      "60000/60000 [==============================] - 2s 39us/step - loss: 0.7183 - acc: 0.9198\n",
      "time in secs is 237.67974543571472 secs\n"
     ]
    }
   ],
   "source": [
    "mod = ffnn(X,y)"
   ]
  },
  {
   "cell_type": "code",
   "execution_count": 42,
   "metadata": {},
   "outputs": [
    {
     "name": "stdout",
     "output_type": "stream",
     "text": [
      "acc is 59.8\n"
     ]
    }
   ],
   "source": [
    "test_X = test_data.iloc[:,1:len(test_data)]\n",
    "test_Y = test_data.iloc[:,0]\n",
    "yhat = mod.predict_classes(test_X)\n",
    "acc = accuracy_score(test_Y, yhat)\n",
    "print(\"acc is {}\".format(acc*100))"
   ]
  },
  {
   "cell_type": "code",
   "execution_count": 41,
   "metadata": {},
   "outputs": [
    {
     "data": {
      "text/plain": [
       "10000"
      ]
     },
     "execution_count": 41,
     "metadata": {},
     "output_type": "execute_result"
    }
   ],
   "source": []
  },
  {
   "cell_type": "markdown",
   "metadata": {},
   "source": [
    "We can see that from confusion matrix the accuracy is about 56.18 \n",
    "To calculate acc from matrix perform 'np.trace(cnf_matrix)/sum(sum(cnf_matrix))'"
   ]
  },
  {
   "cell_type": "code",
   "execution_count": 35,
   "metadata": {},
   "outputs": [
    {
     "name": "stdout",
     "output_type": "stream",
     "text": [
      "Confusion matrix, without normalization\n",
      "[[743  28   0   0  18   4 161   8  35   3]\n",
      " [  2 966   0   0  10   2  15   2   3   0]\n",
      " [ 21 209   0   0 482   7 244   4  29   4]\n",
      " [145 293   0   0 222   1 257  27  54   1]\n",
      " [  3  67   0   0 804   1 113   5   7   0]\n",
      " [  1   2   0   0   2 902  16  10  29  38]\n",
      " [157  49   0   0 163  11 576   8  34   2]\n",
      " [  0  13   0   0   1 380 347 106  23 130]\n",
      " [  8   3   0   0   9   3  18  14 940   5]\n",
      " [  0   2   0   0   1  20   6  21   7 943]]\n"
     ]
    },
    {
     "data": {
      "image/png": "[encoded data removed]",
      "text/plain": [
       "<Figure size 432x288 with 2 Axes>"
      ]
     },
     "metadata": {},
     "output_type": "display_data"
    }
   ],
   "source": [
    "############### Plotting COnfusion Matrix ##############\n",
    "from sklearn.metrics import confusion_matrix\n",
    "import itertools\n",
    "def plot_confusion_matrix(cm, classes,\n",
    "                          normalize=False,\n",
    "                          title='Confusion matrix',\n",
    "                          cmap=plt.cm.Blues):\n",
    "    \"\"\"\n",
    "    This function prints and plots the confusion matrix.\n",
    "    Normalization can be applied by setting `normalize=True`.\n",
    "    \"\"\"\n",
    "    if normalize:\n",
    "        cm = cm.astype('float') / cm.sum(axis=1)[:, np.newaxis]\n",
    "        print(\"Normalized confusion matrix\")\n",
    "    else:\n",
    "        print('Confusion matrix, without normalization')\n",
    "\n",
    "    print(cm)\n",
    "\n",
    "    plt.imshow(cm, interpolation='nearest', cmap=cmap)\n",
    "    plt.title(title)\n",
    "    plt.colorbar()\n",
    "    tick_marks = np.arange(len(classes))\n",
    "    plt.xticks(tick_marks, classes, rotation=45)\n",
    "    plt.yticks(tick_marks, classes)\n",
    "\n",
    "    fmt = '.2f' if normalize else 'd'\n",
    "    thresh = cm.max() / 2.\n",
    "    for i, j in itertools.product(range(cm.shape[0]), range(cm.shape[1])):\n",
    "        plt.text(j, i, format(cm[i, j], fmt),\n",
    "                 horizontalalignment=\"center\",\n",
    "                 color=\"white\" if cm[i, j] > thresh else \"black\")\n",
    "\n",
    "    plt.ylabel('True label')\n",
    "    plt.xlabel('Predicted label')\n",
    "    plt.tight_layout()\n",
    "\n",
    "\n",
    "# Compute confusion matrix\n",
    "cnf_matrix = confusion_matrix(test_Y, yhat)\n",
    "np.set_printoptions(precision=2)\n",
    "\n",
    "# Plot non-normalized confusion matrix\n",
    "class_names = [0,1,2,3,4,5,6,7,8,9]\n",
    "plt.figure()\n",
    "plot_confusion_matrix(cnf_matrix, classes=class_names,\n",
    "                      title='Confusion matrix, without normalization')\n",
    "\n",
    "plt.show()"
   ]
  },
  {
   "cell_type": "code",
   "execution_count": 46,
   "metadata": {},
   "outputs": [
    {
     "data": {
      "text/plain": [
       "0.598"
      ]
     },
     "execution_count": 46,
     "metadata": {},
     "output_type": "execute_result"
    }
   ],
   "source": []
  },
  {
   "cell_type": "code",
   "execution_count": null,
   "metadata": {},
   "outputs": [],
   "source": []
  }
 ],
 "metadata": {
  "kernelspec": {
   "display_name": "Python 3",
   "language": "python",
   "name": "python3"
  },
  "language_info": {
   "codemirror_mode": {
    "name": "ipython",
    "version": 3
   },
   "file_extension": ".py",
   "mimetype": "text/x-python",
   "name": "python",
   "nbconvert_exporter": "python",
   "pygments_lexer": "ipython3",
   "version": "3.6.5"
  }
 },
 "nbformat": 4,
 "nbformat_minor": 2
}

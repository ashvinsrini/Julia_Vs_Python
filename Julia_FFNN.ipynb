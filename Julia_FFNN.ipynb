{
 "cells": [
  {
   "cell_type": "markdown",
   "metadata": {},
   "source": [
    "# Time and Accuracy Performance Analysis between Julia and Python for a simple FFNN \n",
    "### Julia Script"
   ]
  },
  {
   "cell_type": "code",
   "execution_count": 1,
   "metadata": {},
   "outputs": [],
   "source": [
    "###### Intitialising all packages to be imported for FFNN \n",
    "using Flux\n",
    "using Flux: crossentropy, throttle\n",
    "using Flux: @epochs\n",
    "using MLDatasets  ##### Using MLdatasets package which comes with default FASHION MNIST datasets\n",
    "using Flux: onecold\n",
    "using Statistics\n",
    "using Base.Iterators: partition\n",
    "using Flux: onehotbatch\n",
    "using Random\n",
    "train_x, train_y = FashionMNIST.traindata();\n",
    "test_x,  test_y  = FashionMNIST.testdata();"
   ]
  },
  {
   "cell_type": "markdown",
   "metadata": {},
   "source": [
    "Function to convert the matrix shape of the input, and output data. While the data comes as (28,28, No of samples), we want it as (784,no of samples). Hence the function to convert the matrix dimensions. "
   ]
  },
  {
   "cell_type": "code",
   "execution_count": 2,
   "metadata": {},
   "outputs": [],
   "source": [
    "function convert_dim(X,y)\n",
    "inputs = zeros(size(vec(X[:,:,1]))[1],size(X)[3])\n",
    "outputs = onehotbatch(y,0:9)   \n",
    "for i in 1:size(X)[3]\n",
    "    inputs[:,i] = vec(X[:,:,i])\n",
    "end\n",
    "return inputs,outputs\n",
    "end\n",
    "train_X,train_Y = convert_dim(train_x,train_y);\n",
    "test_X,_ = convert_dim(test_x,test_y);"
   ]
  },
  {
   "cell_type": "markdown",
   "metadata": {},
   "source": [
    "# Model to define the FFNN in Julia "
   ]
  },
  {
   "cell_type": "markdown",
   "metadata": {},
   "source": [
    "This has the same architecture as the one defined in Python via Keras. \n",
    "We see that the NN is giving an accuracy of 61.2% with a process time of 134 seconds which is about 50 seconds less than Python suggesting the efficacy of Julia's execution time. \n"
   ]
  },
  {
   "cell_type": "code",
   "execution_count": 3,
   "metadata": {},
   "outputs": [
    {
     "data": {
      "text/plain": [
       "ffnn (generic function with 2 methods)"
      ]
     },
     "execution_count": 3,
     "metadata": {},
     "output_type": "execute_result"
    }
   ],
   "source": [
    "##################### Constructing FFNN for Fashion MNIST data ######### \n",
    "############# Feed Forward Neural Network #########\n",
    "function ffnn(train_input,train_output, test_input, test_output, iter = 100)\n",
    "    model_ffnn = \n",
    "      Chain(\n",
    "          Dense(size(train_input)[1], 100, relu),\n",
    "          Dense(100, 30, relu),\n",
    "          Dense(30, 10, relu),#   Dense(10, 10),\n",
    "          softmax\n",
    "      )\n",
    "    loss_ffnn(x, y) = crossentropy(model_ffnn(x), y)\n",
    "    opt_ffnn = ADAM(params(model_ffnn))\n",
    "    println(model_ffnn.layers)\n",
    "    trainData_ffnn = []\n",
    "    push!(trainData_ffnn, (train_input, train_output))\n",
    "    @time @epochs iter Flux.train!(loss_ffnn, trainData_ffnn, opt_ffnn)\n",
    "    predicted_ffnn = model_ffnn(Float64.(test_input))\n",
    "    accuracy_ffnn = mean(onecold(predicted_ffnn).-1 .== test_output)\n",
    "    println(accuracy_ffnn*100)\n",
    "    return accuracy_ffnn*100\n",
    "end\n"
   ]
  },
  {
   "cell_type": "code",
   "execution_count": 4,
   "metadata": {},
   "outputs": [
    {
     "name": "stdout",
     "output_type": "stream",
     "text": [
      "Any[Dense(784, 100, relu), Dense(100, 30, relu), Dense(30, 10, relu), softmax]\n"
     ]
    },
    {
     "name": "stderr",
     "output_type": "stream",
     "text": [
      "┌ Info: Epoch 1\n",
      "└ @ Main /home/ashvin/.julia/packages/Flux/rcN9D/src/optimise/train.jl:93\n",
      "┌ Info: Epoch 2\n",
      "└ @ Main /home/ashvin/.julia/packages/Flux/rcN9D/src/optimise/train.jl:93\n",
      "┌ Info: Epoch 3\n",
      "└ @ Main /home/ashvin/.julia/packages/Flux/rcN9D/src/optimise/train.jl:93\n",
      "┌ Info: Epoch 4\n",
      "└ @ Main /home/ashvin/.julia/packages/Flux/rcN9D/src/optimise/train.jl:93\n",
      "┌ Info: Epoch 5\n",
      "└ @ Main /home/ashvin/.julia/packages/Flux/rcN9D/src/optimise/train.jl:93\n",
      "┌ Info: Epoch 6\n",
      "└ @ Main /home/ashvin/.julia/packages/Flux/rcN9D/src/optimise/train.jl:93\n",
      "┌ Info: Epoch 7\n",
      "└ @ Main /home/ashvin/.julia/packages/Flux/rcN9D/src/optimise/train.jl:93\n",
      "┌ Info: Epoch 8\n",
      "└ @ Main /home/ashvin/.julia/packages/Flux/rcN9D/src/optimise/train.jl:93\n",
      "┌ Info: Epoch 9\n",
      "└ @ Main /home/ashvin/.julia/packages/Flux/rcN9D/src/optimise/train.jl:93\n",
      "┌ Info: Epoch 10\n",
      "└ @ Main /home/ashvin/.julia/packages/Flux/rcN9D/src/optimise/train.jl:93\n",
      "┌ Info: Epoch 11\n",
      "└ @ Main /home/ashvin/.julia/packages/Flux/rcN9D/src/optimise/train.jl:93\n",
      "┌ Info: Epoch 12\n",
      "└ @ Main /home/ashvin/.julia/packages/Flux/rcN9D/src/optimise/train.jl:93\n",
      "┌ Info: Epoch 13\n",
      "└ @ Main /home/ashvin/.julia/packages/Flux/rcN9D/src/optimise/train.jl:93\n",
      "┌ Info: Epoch 14\n",
      "└ @ Main /home/ashvin/.julia/packages/Flux/rcN9D/src/optimise/train.jl:93\n",
      "┌ Info: Epoch 15\n",
      "└ @ Main /home/ashvin/.julia/packages/Flux/rcN9D/src/optimise/train.jl:93\n",
      "┌ Info: Epoch 16\n",
      "└ @ Main /home/ashvin/.julia/packages/Flux/rcN9D/src/optimise/train.jl:93\n",
      "┌ Info: Epoch 17\n",
      "└ @ Main /home/ashvin/.julia/packages/Flux/rcN9D/src/optimise/train.jl:93\n",
      "┌ Info: Epoch 18\n",
      "└ @ Main /home/ashvin/.julia/packages/Flux/rcN9D/src/optimise/train.jl:93\n",
      "┌ Info: Epoch 19\n",
      "└ @ Main /home/ashvin/.julia/packages/Flux/rcN9D/src/optimise/train.jl:93\n",
      "┌ Info: Epoch 20\n",
      "└ @ Main /home/ashvin/.julia/packages/Flux/rcN9D/src/optimise/train.jl:93\n",
      "┌ Info: Epoch 21\n",
      "└ @ Main /home/ashvin/.julia/packages/Flux/rcN9D/src/optimise/train.jl:93\n",
      "┌ Info: Epoch 22\n",
      "└ @ Main /home/ashvin/.julia/packages/Flux/rcN9D/src/optimise/train.jl:93\n",
      "┌ Info: Epoch 23\n",
      "└ @ Main /home/ashvin/.julia/packages/Flux/rcN9D/src/optimise/train.jl:93\n",
      "┌ Info: Epoch 24\n",
      "└ @ Main /home/ashvin/.julia/packages/Flux/rcN9D/src/optimise/train.jl:93\n",
      "┌ Info: Epoch 25\n",
      "└ @ Main /home/ashvin/.julia/packages/Flux/rcN9D/src/optimise/train.jl:93\n",
      "┌ Info: Epoch 26\n",
      "└ @ Main /home/ashvin/.julia/packages/Flux/rcN9D/src/optimise/train.jl:93\n",
      "┌ Info: Epoch 27\n",
      "└ @ Main /home/ashvin/.julia/packages/Flux/rcN9D/src/optimise/train.jl:93\n",
      "┌ Info: Epoch 28\n",
      "└ @ Main /home/ashvin/.julia/packages/Flux/rcN9D/src/optimise/train.jl:93\n",
      "┌ Info: Epoch 29\n",
      "└ @ Main /home/ashvin/.julia/packages/Flux/rcN9D/src/optimise/train.jl:93\n",
      "┌ Info: Epoch 30\n",
      "└ @ Main /home/ashvin/.julia/packages/Flux/rcN9D/src/optimise/train.jl:93\n",
      "┌ Info: Epoch 31\n",
      "└ @ Main /home/ashvin/.julia/packages/Flux/rcN9D/src/optimise/train.jl:93\n",
      "┌ Info: Epoch 32\n",
      "└ @ Main /home/ashvin/.julia/packages/Flux/rcN9D/src/optimise/train.jl:93\n",
      "┌ Info: Epoch 33\n",
      "└ @ Main /home/ashvin/.julia/packages/Flux/rcN9D/src/optimise/train.jl:93\n",
      "┌ Info: Epoch 34\n",
      "└ @ Main /home/ashvin/.julia/packages/Flux/rcN9D/src/optimise/train.jl:93\n",
      "┌ Info: Epoch 35\n",
      "└ @ Main /home/ashvin/.julia/packages/Flux/rcN9D/src/optimise/train.jl:93\n",
      "┌ Info: Epoch 36\n",
      "└ @ Main /home/ashvin/.julia/packages/Flux/rcN9D/src/optimise/train.jl:93\n",
      "┌ Info: Epoch 37\n",
      "└ @ Main /home/ashvin/.julia/packages/Flux/rcN9D/src/optimise/train.jl:93\n",
      "┌ Info: Epoch 38\n",
      "└ @ Main /home/ashvin/.julia/packages/Flux/rcN9D/src/optimise/train.jl:93\n",
      "┌ Info: Epoch 39\n",
      "└ @ Main /home/ashvin/.julia/packages/Flux/rcN9D/src/optimise/train.jl:93\n",
      "┌ Info: Epoch 40\n",
      "└ @ Main /home/ashvin/.julia/packages/Flux/rcN9D/src/optimise/train.jl:93\n",
      "┌ Info: Epoch 41\n",
      "└ @ Main /home/ashvin/.julia/packages/Flux/rcN9D/src/optimise/train.jl:93\n",
      "┌ Info: Epoch 42\n",
      "└ @ Main /home/ashvin/.julia/packages/Flux/rcN9D/src/optimise/train.jl:93\n",
      "┌ Info: Epoch 43\n",
      "└ @ Main /home/ashvin/.julia/packages/Flux/rcN9D/src/optimise/train.jl:93\n",
      "┌ Info: Epoch 44\n",
      "└ @ Main /home/ashvin/.julia/packages/Flux/rcN9D/src/optimise/train.jl:93\n",
      "┌ Info: Epoch 45\n",
      "└ @ Main /home/ashvin/.julia/packages/Flux/rcN9D/src/optimise/train.jl:93\n",
      "┌ Info: Epoch 46\n",
      "└ @ Main /home/ashvin/.julia/packages/Flux/rcN9D/src/optimise/train.jl:93\n",
      "┌ Info: Epoch 47\n",
      "└ @ Main /home/ashvin/.julia/packages/Flux/rcN9D/src/optimise/train.jl:93\n",
      "┌ Info: Epoch 48\n",
      "└ @ Main /home/ashvin/.julia/packages/Flux/rcN9D/src/optimise/train.jl:93\n",
      "┌ Info: Epoch 49\n",
      "└ @ Main /home/ashvin/.julia/packages/Flux/rcN9D/src/optimise/train.jl:93\n",
      "┌ Info: Epoch 50\n",
      "└ @ Main /home/ashvin/.julia/packages/Flux/rcN9D/src/optimise/train.jl:93\n",
      "┌ Info: Epoch 51\n",
      "└ @ Main /home/ashvin/.julia/packages/Flux/rcN9D/src/optimise/train.jl:93\n",
      "┌ Info: Epoch 52\n",
      "└ @ Main /home/ashvin/.julia/packages/Flux/rcN9D/src/optimise/train.jl:93\n",
      "┌ Info: Epoch 53\n",
      "└ @ Main /home/ashvin/.julia/packages/Flux/rcN9D/src/optimise/train.jl:93\n",
      "┌ Info: Epoch 54\n",
      "└ @ Main /home/ashvin/.julia/packages/Flux/rcN9D/src/optimise/train.jl:93\n",
      "┌ Info: Epoch 55\n",
      "└ @ Main /home/ashvin/.julia/packages/Flux/rcN9D/src/optimise/train.jl:93\n",
      "┌ Info: Epoch 56\n",
      "└ @ Main /home/ashvin/.julia/packages/Flux/rcN9D/src/optimise/train.jl:93\n",
      "┌ Info: Epoch 57\n",
      "└ @ Main /home/ashvin/.julia/packages/Flux/rcN9D/src/optimise/train.jl:93\n",
      "┌ Info: Epoch 58\n",
      "└ @ Main /home/ashvin/.julia/packages/Flux/rcN9D/src/optimise/train.jl:93\n",
      "┌ Info: Epoch 59\n",
      "└ @ Main /home/ashvin/.julia/packages/Flux/rcN9D/src/optimise/train.jl:93\n",
      "┌ Info: Epoch 60\n",
      "└ @ Main /home/ashvin/.julia/packages/Flux/rcN9D/src/optimise/train.jl:93\n",
      "┌ Info: Epoch 61\n",
      "└ @ Main /home/ashvin/.julia/packages/Flux/rcN9D/src/optimise/train.jl:93\n",
      "┌ Info: Epoch 62\n",
      "└ @ Main /home/ashvin/.julia/packages/Flux/rcN9D/src/optimise/train.jl:93\n",
      "┌ Info: Epoch 63\n",
      "└ @ Main /home/ashvin/.julia/packages/Flux/rcN9D/src/optimise/train.jl:93\n",
      "┌ Info: Epoch 64\n",
      "└ @ Main /home/ashvin/.julia/packages/Flux/rcN9D/src/optimise/train.jl:93\n",
      "┌ Info: Epoch 65\n",
      "└ @ Main /home/ashvin/.julia/packages/Flux/rcN9D/src/optimise/train.jl:93\n",
      "┌ Info: Epoch 66\n",
      "└ @ Main /home/ashvin/.julia/packages/Flux/rcN9D/src/optimise/train.jl:93\n",
      "┌ Info: Epoch 67\n",
      "└ @ Main /home/ashvin/.julia/packages/Flux/rcN9D/src/optimise/train.jl:93\n",
      "┌ Info: Epoch 68\n",
      "└ @ Main /home/ashvin/.julia/packages/Flux/rcN9D/src/optimise/train.jl:93\n",
      "┌ Info: Epoch 69\n",
      "└ @ Main /home/ashvin/.julia/packages/Flux/rcN9D/src/optimise/train.jl:93\n",
      "┌ Info: Epoch 70\n",
      "└ @ Main /home/ashvin/.julia/packages/Flux/rcN9D/src/optimise/train.jl:93\n",
      "┌ Info: Epoch 71\n",
      "└ @ Main /home/ashvin/.julia/packages/Flux/rcN9D/src/optimise/train.jl:93\n",
      "┌ Info: Epoch 72\n",
      "└ @ Main /home/ashvin/.julia/packages/Flux/rcN9D/src/optimise/train.jl:93\n",
      "┌ Info: Epoch 73\n",
      "└ @ Main /home/ashvin/.julia/packages/Flux/rcN9D/src/optimise/train.jl:93\n",
      "┌ Info: Epoch 74\n",
      "└ @ Main /home/ashvin/.julia/packages/Flux/rcN9D/src/optimise/train.jl:93\n",
      "┌ Info: Epoch 75\n",
      "└ @ Main /home/ashvin/.julia/packages/Flux/rcN9D/src/optimise/train.jl:93\n",
      "┌ Info: Epoch 76\n",
      "└ @ Main /home/ashvin/.julia/packages/Flux/rcN9D/src/optimise/train.jl:93\n",
      "┌ Info: Epoch 77\n",
      "└ @ Main /home/ashvin/.julia/packages/Flux/rcN9D/src/optimise/train.jl:93\n",
      "┌ Info: Epoch 78\n",
      "└ @ Main /home/ashvin/.julia/packages/Flux/rcN9D/src/optimise/train.jl:93\n",
      "┌ Info: Epoch 79\n",
      "└ @ Main /home/ashvin/.julia/packages/Flux/rcN9D/src/optimise/train.jl:93\n",
      "┌ Info: Epoch 80\n",
      "└ @ Main /home/ashvin/.julia/packages/Flux/rcN9D/src/optimise/train.jl:93\n",
      "┌ Info: Epoch 81\n",
      "└ @ Main /home/ashvin/.julia/packages/Flux/rcN9D/src/optimise/train.jl:93\n",
      "┌ Info: Epoch 82\n",
      "└ @ Main /home/ashvin/.julia/packages/Flux/rcN9D/src/optimise/train.jl:93\n",
      "┌ Info: Epoch 83\n",
      "└ @ Main /home/ashvin/.julia/packages/Flux/rcN9D/src/optimise/train.jl:93\n",
      "┌ Info: Epoch 84\n",
      "└ @ Main /home/ashvin/.julia/packages/Flux/rcN9D/src/optimise/train.jl:93\n",
      "┌ Info: Epoch 85\n",
      "└ @ Main /home/ashvin/.julia/packages/Flux/rcN9D/src/optimise/train.jl:93\n",
      "┌ Info: Epoch 86\n",
      "└ @ Main /home/ashvin/.julia/packages/Flux/rcN9D/src/optimise/train.jl:93\n",
      "┌ Info: Epoch 87\n",
      "└ @ Main /home/ashvin/.julia/packages/Flux/rcN9D/src/optimise/train.jl:93\n",
      "┌ Info: Epoch 88\n",
      "└ @ Main /home/ashvin/.julia/packages/Flux/rcN9D/src/optimise/train.jl:93\n",
      "┌ Info: Epoch 89\n",
      "└ @ Main /home/ashvin/.julia/packages/Flux/rcN9D/src/optimise/train.jl:93\n",
      "┌ Info: Epoch 90\n",
      "└ @ Main /home/ashvin/.julia/packages/Flux/rcN9D/src/optimise/train.jl:93\n",
      "┌ Info: Epoch 91\n",
      "└ @ Main /home/ashvin/.julia/packages/Flux/rcN9D/src/optimise/train.jl:93\n",
      "┌ Info: Epoch 92\n",
      "└ @ Main /home/ashvin/.julia/packages/Flux/rcN9D/src/optimise/train.jl:93\n"
     ]
    },
    {
     "name": "stderr",
     "output_type": "stream",
     "text": [
      "┌ Info: Epoch 93\n",
      "└ @ Main /home/ashvin/.julia/packages/Flux/rcN9D/src/optimise/train.jl:93\n",
      "┌ Info: Epoch 94\n",
      "└ @ Main /home/ashvin/.julia/packages/Flux/rcN9D/src/optimise/train.jl:93\n",
      "┌ Info: Epoch 95\n",
      "└ @ Main /home/ashvin/.julia/packages/Flux/rcN9D/src/optimise/train.jl:93\n",
      "┌ Info: Epoch 96\n",
      "└ @ Main /home/ashvin/.julia/packages/Flux/rcN9D/src/optimise/train.jl:93\n",
      "┌ Info: Epoch 97\n",
      "└ @ Main /home/ashvin/.julia/packages/Flux/rcN9D/src/optimise/train.jl:93\n",
      "┌ Info: Epoch 98\n",
      "└ @ Main /home/ashvin/.julia/packages/Flux/rcN9D/src/optimise/train.jl:93\n",
      "┌ Info: Epoch 99\n",
      "└ @ Main /home/ashvin/.julia/packages/Flux/rcN9D/src/optimise/train.jl:93\n",
      "┌ Info: Epoch 100\n",
      "└ @ Main /home/ashvin/.julia/packages/Flux/rcN9D/src/optimise/train.jl:93\n"
     ]
    },
    {
     "name": "stdout",
     "output_type": "stream",
     "text": [
      "133.999832 seconds (16.40 M allocations: 70.879 GiB, 23.05% gc time)\n",
      "61.29\n"
     ]
    },
    {
     "data": {
      "text/plain": [
       "61.29"
      ]
     },
     "execution_count": 4,
     "metadata": {},
     "output_type": "execute_result"
    }
   ],
   "source": [
    "acc = ffnn(train_X,train_Y,test_X, test_y,  100)"
   ]
  },
  {
   "cell_type": "code",
   "execution_count": null,
   "metadata": {},
   "outputs": [],
   "source": []
  }
 ],
 "metadata": {
  "kernelspec": {
   "display_name": "Julia 1.0.1",
   "language": "julia",
   "name": "julia-1.0"
  },
  "language_info": {
   "file_extension": ".jl",
   "mimetype": "application/julia",
   "name": "julia",
   "version": "1.0.1"
  }
 },
 "nbformat": 4,
 "nbformat_minor": 2
}
